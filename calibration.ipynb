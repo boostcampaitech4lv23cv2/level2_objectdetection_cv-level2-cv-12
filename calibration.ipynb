{
 "cells": [
  {
   "cell_type": "code",
   "execution_count": 30,
   "id": "747d8026-fa6d-4904-b993-c206f1be1fe1",
   "metadata": {},
   "outputs": [],
   "source": [
    "import os\n",
    "from map_boxes import mean_average_precision_for_boxes\n",
    "import pandas as pd\n",
    "import numpy as np\n",
    "import json\n",
    "from tqdm import tqdm\n",
    "from pycocotools.coco import COCO"
   ]
  },
  {
   "cell_type": "code",
   "execution_count": 31,
   "id": "adc8dc68-949e-4e5e-b30b-f5ea20d90e13",
   "metadata": {},
   "outputs": [],
   "source": [
    "#pred_csv = 'work_dirs/inseo_test/yolox_x(scaling+soft nms)/val_best_bbox_mAP_50_epoch_42.csv'\n",
    "pred_csv = 'ensemble_2.csv'\n",
    "\n",
    "#pred_csv = 'work_dirs/inseo_test/yolox_x(scaling+soft nms)/val_finding_best_bbox_mAP_50_epoch_42.csv'\n",
    "\n",
    "pred_csv = pd.read_csv(pred_csv)\n",
    "\n",
    "#class_csv = 'classification/work_dirs/classification/val_class.csv'\n",
    "class_csv = 'classification/work_dirs/classification/test_class.csv'\n",
    "class_csv = pd.read_csv(class_csv)"
   ]
  },
  {
   "cell_type": "code",
   "execution_count": 32,
   "id": "541ee61b-30d5-47b3-90e9-9f7ac8a32e1d",
   "metadata": {
    "tags": []
   },
   "outputs": [],
   "source": [
    "# csv_modify\n",
    "df = pred_csv.copy()\n",
    "for i in range(len(pred_csv)):\n",
    "    preds,image_id = pred_csv.loc[i]\n",
    "    classes = class_csv[class_csv['image_id']==image_id]['classe_str'][i]\n",
    "    \n",
    "    preds = list(map(float,preds.split()))\n",
    "    classes = list(map(float,classes.split()))\n",
    "    \n",
    "    #print(len(pred),len(classes))\n",
    "    assert len(preds)%6 == 0 and len(classes)%10==0\n",
    "    \n",
    "    tmp = list(map(float,pred_csv.loc[i]['PredictionString'].split()))\n",
    "    \n",
    "    #print('before :',tmp)\n",
    "    for j in range(0,len(tmp),6):\n",
    "        tmp[j] = int(tmp[j])\n",
    "        tmp[j+1] = tmp[j+1]*(classes[tmp[j]]**(0.22))\n",
    "    tmp = \" \".join(map(str,tmp))+' '\n",
    "    df.loc[i,'PredictionString'] = tmp"
   ]
  },
  {
   "cell_type": "code",
   "execution_count": 33,
   "id": "c2201e51-8acf-498d-a07f-8d17801432b4",
   "metadata": {},
   "outputs": [
    {
     "data": {
      "text/html": [
       "<div>\n",
       "<style scoped>\n",
       "    .dataframe tbody tr th:only-of-type {\n",
       "        vertical-align: middle;\n",
       "    }\n",
       "\n",
       "    .dataframe tbody tr th {\n",
       "        vertical-align: top;\n",
       "    }\n",
       "\n",
       "    .dataframe thead th {\n",
       "        text-align: right;\n",
       "    }\n",
       "</style>\n",
       "<table border=\"1\" class=\"dataframe\">\n",
       "  <thead>\n",
       "    <tr style=\"text-align: right;\">\n",
       "      <th></th>\n",
       "      <th>PredictionString</th>\n",
       "      <th>image_id</th>\n",
       "    </tr>\n",
       "  </thead>\n",
       "  <tbody>\n",
       "    <tr>\n",
       "      <th>4866</th>\n",
       "      <td>1 0.5080580711364746 291.42108154296875 346.31...</td>\n",
       "      <td>test/4866.jpg</td>\n",
       "    </tr>\n",
       "    <tr>\n",
       "      <th>4867</th>\n",
       "      <td>3 0.7856745719909668 414.3136291503906 315.421...</td>\n",
       "      <td>test/4867.jpg</td>\n",
       "    </tr>\n",
       "    <tr>\n",
       "      <th>4868</th>\n",
       "      <td>7 0.55253666639328 113.62055206298828 465.3815...</td>\n",
       "      <td>test/4868.jpg</td>\n",
       "    </tr>\n",
       "    <tr>\n",
       "      <th>4869</th>\n",
       "      <td>7 0.41058045625686646 2.180711030960083 235.13...</td>\n",
       "      <td>test/4869.jpg</td>\n",
       "    </tr>\n",
       "    <tr>\n",
       "      <th>4870</th>\n",
       "      <td>4 0.655908465385437 371.68658447265625 204.432...</td>\n",
       "      <td>test/4870.jpg</td>\n",
       "    </tr>\n",
       "  </tbody>\n",
       "</table>\n",
       "</div>"
      ],
      "text/plain": [
       "                                       PredictionString       image_id\n",
       "4866  1 0.5080580711364746 291.42108154296875 346.31...  test/4866.jpg\n",
       "4867  3 0.7856745719909668 414.3136291503906 315.421...  test/4867.jpg\n",
       "4868  7 0.55253666639328 113.62055206298828 465.3815...  test/4868.jpg\n",
       "4869  7 0.41058045625686646 2.180711030960083 235.13...  test/4869.jpg\n",
       "4870  4 0.655908465385437 371.68658447265625 204.432...  test/4870.jpg"
      ]
     },
     "execution_count": 33,
     "metadata": {},
     "output_type": "execute_result"
    }
   ],
   "source": [
    "pred_csv.tail()"
   ]
  },
  {
   "cell_type": "code",
   "execution_count": 34,
   "id": "621f8a6e-4764-408b-9041-a091b99dd4d8",
   "metadata": {},
   "outputs": [
    {
     "data": {
      "text/html": [
       "<div>\n",
       "<style scoped>\n",
       "    .dataframe tbody tr th:only-of-type {\n",
       "        vertical-align: middle;\n",
       "    }\n",
       "\n",
       "    .dataframe tbody tr th {\n",
       "        vertical-align: top;\n",
       "    }\n",
       "\n",
       "    .dataframe thead th {\n",
       "        text-align: right;\n",
       "    }\n",
       "</style>\n",
       "<table border=\"1\" class=\"dataframe\">\n",
       "  <thead>\n",
       "    <tr style=\"text-align: right;\">\n",
       "      <th></th>\n",
       "      <th>PredictionString</th>\n",
       "      <th>image_id</th>\n",
       "    </tr>\n",
       "  </thead>\n",
       "  <tbody>\n",
       "    <tr>\n",
       "      <th>4866</th>\n",
       "      <td>1 0.4526106719406756 291.42108154296875 346.31...</td>\n",
       "      <td>test/4866.jpg</td>\n",
       "    </tr>\n",
       "    <tr>\n",
       "      <th>4867</th>\n",
       "      <td>3 0.7427717204613102 414.3136291503906 315.421...</td>\n",
       "      <td>test/4867.jpg</td>\n",
       "    </tr>\n",
       "    <tr>\n",
       "      <th>4868</th>\n",
       "      <td>7 0.5174714835957361 113.62055206298828 465.38...</td>\n",
       "      <td>test/4868.jpg</td>\n",
       "    </tr>\n",
       "    <tr>\n",
       "      <th>4869</th>\n",
       "      <td>7 0.20197696795674425 2.180711030960083 235.13...</td>\n",
       "      <td>test/4869.jpg</td>\n",
       "    </tr>\n",
       "    <tr>\n",
       "      <th>4870</th>\n",
       "      <td>4 0.6558949295631684 371.68658447265625 204.43...</td>\n",
       "      <td>test/4870.jpg</td>\n",
       "    </tr>\n",
       "  </tbody>\n",
       "</table>\n",
       "</div>"
      ],
      "text/plain": [
       "                                       PredictionString       image_id\n",
       "4866  1 0.4526106719406756 291.42108154296875 346.31...  test/4866.jpg\n",
       "4867  3 0.7427717204613102 414.3136291503906 315.421...  test/4867.jpg\n",
       "4868  7 0.5174714835957361 113.62055206298828 465.38...  test/4868.jpg\n",
       "4869  7 0.20197696795674425 2.180711030960083 235.13...  test/4869.jpg\n",
       "4870  4 0.6558949295631684 371.68658447265625 204.43...  test/4870.jpg"
      ]
     },
     "execution_count": 34,
     "metadata": {},
     "output_type": "execute_result"
    }
   ],
   "source": [
    "df.tail()"
   ]
  },
  {
   "cell_type": "code",
   "execution_count": 35,
   "id": "6617e2fb-c0d9-4f37-bd24-1754ee11fd1a",
   "metadata": {},
   "outputs": [],
   "source": [
    "df.to_csv(os.path.join('calibration_ensemble_2.csv'), index=None)"
   ]
  },
  {
   "cell_type": "markdown",
   "id": "ab591fb6-f369-45fd-b3ed-78ad21d10f0e",
   "metadata": {},
   "source": [
    "# grid search"
   ]
  },
  {
   "cell_type": "code",
   "execution_count": 5,
   "id": "6597e3a7-485b-4693-a029-8a59339e346f",
   "metadata": {},
   "outputs": [
    {
     "name": "stdout",
     "output_type": "stream",
     "text": [
      "loading annotations into memory...\n",
      "Done (t=0.07s)\n",
      "creating index...\n",
      "index created!\n"
     ]
    }
   ],
   "source": [
    "GT_JSON = '../dataset/kfold/seed41/val_4.json'\n",
    "#PRED_CSV = '../../sample_submission/train_sample.csv'\n",
    "LABEL_NAME = [\"General trash\", \"Paper\", \"Paper pack\", \"Metal\", \n",
    "              \"Glass\", \"Plastic\", \"Styrofoam\", \"Plastic bag\", \"Battery\", \"Clothing\"]\n",
    "\n",
    "with open(GT_JSON, 'r') as outfile:\n",
    "    test_anno = (json.load(outfile))\n",
    "\n",
    "gt = []\n",
    "\n",
    "coco = COCO(GT_JSON)\n",
    "\n",
    "for image_id in coco.getImgIds():\n",
    "        \n",
    "    image_info = coco.loadImgs(image_id)[0]\n",
    "    annotation_id = coco.getAnnIds(imgIds=image_info['id'])\n",
    "    annotation_info_list = coco.loadAnns(annotation_id)\n",
    "        \n",
    "    file_name = image_info['file_name']\n",
    "        \n",
    "    for annotation in annotation_info_list:\n",
    "        gt.append([file_name, annotation['category_id'],\n",
    "                   float(annotation['bbox'][0]),\n",
    "                   float(annotation['bbox'][0]) + float(annotation['bbox'][2]),\n",
    "                   float(annotation['bbox'][1]),\n",
    "                   (float(annotation['bbox'][1]) + float(annotation['bbox'][3]))])"
   ]
  },
  {
   "cell_type": "code",
   "execution_count": 6,
   "id": "d4c70393-793a-4f6f-af47-2fe4c244af6f",
   "metadata": {},
   "outputs": [],
   "source": [
    "def create_new_pred(pred_df):\n",
    "    new_pred = []\n",
    "\n",
    "    file_names = pred_df['image_id'].values.tolist()\n",
    "    bboxes = pred_df['PredictionString'].values.tolist()\n",
    "\n",
    "    '''\n",
    "    create new_pred\n",
    "    '''\n",
    "\n",
    "    for i, bbox in enumerate(bboxes):\n",
    "        if isinstance(bbox, float):\n",
    "            print(f'{file_names[i]} empty box')\n",
    "\n",
    "    for file_name, bbox in zip(file_names, bboxes):\n",
    "        boxes = np.array(str(bbox).split(' '))\n",
    "\n",
    "        if len(boxes) % 6 == 1:\n",
    "            boxes = boxes[:-1].reshape(-1, 6)\n",
    "        elif len(boxes) % 6 == 0:\n",
    "            boxes = boxes.reshape(-1, 6)\n",
    "        else:\n",
    "            raise Exception('error', 'invalid box count')\n",
    "        for box in boxes:\n",
    "            new_pred.append([file_name, box[0], box[1], float(box[2]), float(box[4]), float(box[3]), float(box[5])])\n",
    "    return new_pred"
   ]
  },
  {
   "cell_type": "code",
   "execution_count": 14,
   "id": "4ebe7f87-a7f7-468b-a270-d1d3d6a939d0",
   "metadata": {},
   "outputs": [],
   "source": [
    "def calibration(c):\n",
    "    global gt\n",
    "    df = pred_csv.copy()\n",
    "    for i in range(len(pred_csv)):\n",
    "        preds,image_id = pred_csv.loc[i]\n",
    "        classes = class_csv[class_csv['image_id']==image_id]['classe_str'][i]\n",
    "\n",
    "        preds = list(map(float,preds.split()))\n",
    "        classes = list(map(float,classes.split()))\n",
    "\n",
    "        #print(len(pred),len(classes))\n",
    "        assert len(preds)%6 == 0 and len(classes)%10==0\n",
    "\n",
    "        tmp = list(map(float,pred_csv.loc[i]['PredictionString'].split()))\n",
    "\n",
    "        #print('before :',tmp)\n",
    "        for j in range(0,len(tmp),6):\n",
    "            tmp[j] = int(tmp[j])\n",
    "            tmp[j+1] = tmp[j+1]*(classes[tmp[j]]**(c))\n",
    "        tmp = \" \".join(map(str,tmp))+' '\n",
    "        df.loc[i,'PredictionString'] = tmp\n",
    "\n",
    "    new_pred = create_new_pred(df)\n",
    "    mean_ap, average_precisions = mean_average_precision_for_boxes(gt, new_pred, iou_threshold=0.5,verbose=False)\n",
    "    return mean_ap"
   ]
  },
  {
   "cell_type": "code",
   "execution_count": 17,
   "id": "d36d78a8-48ec-4d88-bcd1-4473ce8d44ad",
   "metadata": {},
   "outputs": [
    {
     "name": "stderr",
     "output_type": "stream",
     "text": [
      "  1%|          | 1/100 [00:02<04:55,  2.99s/it]"
     ]
    },
    {
     "name": "stdout",
     "output_type": "stream",
     "text": [
      "0.0 0.524121973475698\n"
     ]
    },
    {
     "name": "stderr",
     "output_type": "stream",
     "text": [
      "  2%|▏         | 2/100 [00:05<04:52,  2.99s/it]"
     ]
    },
    {
     "name": "stdout",
     "output_type": "stream",
     "text": [
      "0.01 0.5278334912241285\n"
     ]
    },
    {
     "name": "stderr",
     "output_type": "stream",
     "text": [
      "  3%|▎         | 3/100 [00:08<04:48,  2.98s/it]"
     ]
    },
    {
     "name": "stdout",
     "output_type": "stream",
     "text": [
      "0.02 0.5291951924482852\n"
     ]
    },
    {
     "name": "stderr",
     "output_type": "stream",
     "text": [
      "  4%|▍         | 4/100 [00:11<04:45,  2.97s/it]"
     ]
    },
    {
     "name": "stdout",
     "output_type": "stream",
     "text": [
      "0.03 0.5301421506585129\n"
     ]
    },
    {
     "name": "stderr",
     "output_type": "stream",
     "text": [
      "  5%|▌         | 5/100 [00:14<04:44,  3.00s/it]"
     ]
    },
    {
     "name": "stdout",
     "output_type": "stream",
     "text": [
      "0.04 0.5308722048661433\n"
     ]
    },
    {
     "name": "stderr",
     "output_type": "stream",
     "text": [
      "  6%|▌         | 6/100 [00:17<04:43,  3.02s/it]"
     ]
    },
    {
     "name": "stdout",
     "output_type": "stream",
     "text": [
      "0.05 0.5317610612358772\n"
     ]
    },
    {
     "name": "stderr",
     "output_type": "stream",
     "text": [
      "  7%|▋         | 7/100 [00:20<04:39,  3.01s/it]"
     ]
    },
    {
     "name": "stdout",
     "output_type": "stream",
     "text": [
      "0.06 0.5321136101499337\n"
     ]
    },
    {
     "name": "stderr",
     "output_type": "stream",
     "text": [
      "  8%|▊         | 8/100 [00:23<04:35,  3.00s/it]"
     ]
    },
    {
     "name": "stdout",
     "output_type": "stream",
     "text": [
      "0.07 0.532855883503402\n"
     ]
    },
    {
     "name": "stderr",
     "output_type": "stream",
     "text": [
      "  9%|▉         | 9/100 [00:26<04:32,  2.99s/it]"
     ]
    },
    {
     "name": "stdout",
     "output_type": "stream",
     "text": [
      "0.08 0.5333500662805815\n"
     ]
    },
    {
     "name": "stderr",
     "output_type": "stream",
     "text": [
      " 10%|█         | 10/100 [00:29<04:28,  2.98s/it]"
     ]
    },
    {
     "name": "stdout",
     "output_type": "stream",
     "text": [
      "0.09 0.5336268920590858\n"
     ]
    },
    {
     "name": "stderr",
     "output_type": "stream",
     "text": [
      " 11%|█         | 11/100 [00:32<04:27,  3.00s/it]"
     ]
    },
    {
     "name": "stdout",
     "output_type": "stream",
     "text": [
      "0.1 0.5337842485825756\n"
     ]
    },
    {
     "name": "stderr",
     "output_type": "stream",
     "text": [
      " 12%|█▏        | 12/100 [00:35<04:23,  3.00s/it]"
     ]
    },
    {
     "name": "stdout",
     "output_type": "stream",
     "text": [
      "0.11 0.533992731002457\n"
     ]
    },
    {
     "name": "stderr",
     "output_type": "stream",
     "text": [
      " 13%|█▎        | 13/100 [00:38<04:21,  3.00s/it]"
     ]
    },
    {
     "name": "stdout",
     "output_type": "stream",
     "text": [
      "0.12 0.5341609803576389\n"
     ]
    },
    {
     "name": "stderr",
     "output_type": "stream",
     "text": [
      " 14%|█▍        | 14/100 [00:41<04:17,  2.99s/it]"
     ]
    },
    {
     "name": "stdout",
     "output_type": "stream",
     "text": [
      "0.13 0.534186597029108\n"
     ]
    },
    {
     "name": "stderr",
     "output_type": "stream",
     "text": [
      " 15%|█▌        | 15/100 [00:44<04:14,  2.99s/it]"
     ]
    },
    {
     "name": "stdout",
     "output_type": "stream",
     "text": [
      "0.14 0.5342260210002211\n"
     ]
    },
    {
     "name": "stderr",
     "output_type": "stream",
     "text": [
      " 17%|█▋        | 17/100 [00:50<04:08,  3.00s/it]"
     ]
    },
    {
     "name": "stdout",
     "output_type": "stream",
     "text": [
      "0.16 0.5342701052512576\n"
     ]
    },
    {
     "name": "stderr",
     "output_type": "stream",
     "text": [
      " 18%|█▊        | 18/100 [00:53<04:05,  2.99s/it]"
     ]
    },
    {
     "name": "stdout",
     "output_type": "stream",
     "text": [
      "0.17 0.5343385196968338\n"
     ]
    },
    {
     "name": "stderr",
     "output_type": "stream",
     "text": [
      " 19%|█▉        | 19/100 [00:56<04:02,  2.99s/it]"
     ]
    },
    {
     "name": "stdout",
     "output_type": "stream",
     "text": [
      "0.18 0.5345837563303731\n"
     ]
    },
    {
     "name": "stderr",
     "output_type": "stream",
     "text": [
      " 20%|██        | 20/100 [00:59<04:00,  3.00s/it]"
     ]
    },
    {
     "name": "stdout",
     "output_type": "stream",
     "text": [
      "0.19 0.5347022463591279\n"
     ]
    },
    {
     "name": "stderr",
     "output_type": "stream",
     "text": [
      " 21%|██        | 21/100 [01:02<03:57,  3.00s/it]"
     ]
    },
    {
     "name": "stdout",
     "output_type": "stream",
     "text": [
      "0.2 0.5347786720107777\n"
     ]
    },
    {
     "name": "stderr",
     "output_type": "stream",
     "text": [
      " 23%|██▎       | 23/100 [01:09<03:54,  3.04s/it]"
     ]
    },
    {
     "name": "stdout",
     "output_type": "stream",
     "text": [
      "0.22 0.5349084907570599\n"
     ]
    },
    {
     "name": "stderr",
     "output_type": "stream",
     "text": [
      "100%|██████████| 100/100 [05:00<00:00,  3.01s/it]\n"
     ]
    }
   ],
   "source": [
    "max_c,max_score = 0, 0\n",
    "for i in tqdm(range(0,100)):\n",
    "    score = calibration(i/100)\n",
    "    \n",
    "    if max_score<score:\n",
    "        max_score=score\n",
    "        max_c=i/100\n",
    "        print(max_c,max_score)"
   ]
  },
  {
   "cell_type": "code",
   "execution_count": 221,
   "id": "4768e156-29a6-406f-894c-42d52f1af39d",
   "metadata": {},
   "outputs": [
    {
     "name": "stdout",
     "output_type": "stream",
     "text": [
      "0.0 0.5337842485825756\n"
     ]
    }
   ],
   "source": [
    "print(max_c,max_score)"
   ]
  }
 ],
 "metadata": {
  "kernelspec": {
   "display_name": "detection",
   "language": "python",
   "name": "detection"
  },
  "language_info": {
   "codemirror_mode": {
    "name": "ipython",
    "version": 3
   },
   "file_extension": ".py",
   "mimetype": "text/x-python",
   "name": "python",
   "nbconvert_exporter": "python",
   "pygments_lexer": "ipython3",
   "version": "3.7.15"
  }
 },
 "nbformat": 4,
 "nbformat_minor": 5
}
