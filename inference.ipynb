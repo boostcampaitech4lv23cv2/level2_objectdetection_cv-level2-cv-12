{
 "cells": [
  {
   "cell_type": "code",
   "execution_count": 1,
   "id": "3fd75793",
   "metadata": {},
   "outputs": [
    {
     "name": "stderr",
     "output_type": "stream",
     "text": [
      "/opt/conda/envs/detection/lib/python3.7/site-packages/mmcv/__init__.py:21: UserWarning: On January 1, 2023, MMCV will release v2.0.0, in which it will remove components related to the training process and add a data transformation module. In addition, it will rename the package names mmcv to mmcv-lite and mmcv-full to mmcv. See https://github.com/open-mmlab/mmcv/blob/master/docs/en/compatibility.md for more details.\n",
      "  'On January 1, 2023, MMCV will release v2.0.0, in which it will remove '\n"
     ]
    }
   ],
   "source": [
    "import mmcv\n",
    "from mmcv import Config\n",
    "from mmdet.datasets import (build_dataloader, build_dataset,\n",
    "                            replace_ImageToTensor)\n",
    "from mmdet.models import build_detector\n",
    "from mmdet.apis import single_gpu_test\n",
    "from mmcv.runner import load_checkpoint\n",
    "import os\n",
    "from mmcv.parallel import MMDataParallel\n",
    "import pandas as pd\n",
    "from pandas import DataFrame\n",
    "from pycocotools.coco import COCO\n",
    "import numpy as np"
   ]
  },
  {
   "cell_type": "code",
   "execution_count": 4,
   "id": "edda58ea",
   "metadata": {
    "tags": []
   },
   "outputs": [],
   "source": [
    "classes = (\"General trash\", \"Paper\", \"Paper pack\", \"Metal\", \"Glass\", \n",
    "           \"Plastic\", \"Styrofoam\", \"Plastic bag\", \"Battery\", \"Clothing\")\n",
    "\n",
    "# config file 들고오기\n",
    "cfg = Config.fromfile('/opt/ml/baseline/competition/mmdetection/configs/mask_rcnn_focalnet_tiny_patch4_mstrain_480-800_adamw_3x_coco_lrf.py')\n",
    "\n",
    "root='../../dataset/'\n",
    "\n",
    "# dataset config 수정\n",
    "cfg.data.test.classes = classes\n",
    "cfg.data.test.img_prefix = root\n",
    "cfg.data.test.ann_file = root + 'test.json'\n",
    "cfg.data.test.pipeline[1]['img_scale'] = (512,512) # Resize\n",
    "# cfg.data.test.pipeline[1]['img_scale'] = (640,640) # Resize\n",
    "cfg.data.test.test_mode = True\n",
    "\n",
    "cfg.data.samples_per_gpu = 4\n",
    "\n",
    "cfg.seed=41\n",
    "cfg.gpu_ids = [1]\n",
    "#cfg.work_dir = './work_dirs/faster_rcnn_r50_fpn_1x_trash'\n",
    "#cfg.model.roi_head.bbox_head.num_classes = 10\n",
    "\n",
    "cfg.optimizer_config.grad_clip = dict(max_norm=35, norm_type=2)\n",
    "cfg.model.train_cfg = None"
   ]
  },
  {
   "cell_type": "code",
   "execution_count": 5,
   "id": "b086a8cf",
   "metadata": {},
   "outputs": [
    {
     "name": "stdout",
     "output_type": "stream",
     "text": [
      "loading annotations into memory...\n",
      "Done (t=0.01s)\n",
      "creating index...\n",
      "index created!\n"
     ]
    }
   ],
   "source": [
    "# build dataset & dataloader\n",
    "dataset = build_dataset(cfg.data.test)\n",
    "data_loader = build_dataloader(\n",
    "        dataset,\n",
    "        samples_per_gpu=1,\n",
    "        workers_per_gpu=cfg.data.workers_per_gpu,\n",
    "        dist=False,\n",
    "        shuffle=False)"
   ]
  },
  {
   "cell_type": "code",
   "execution_count": 6,
   "id": "56b20cc1-288d-4370-9acb-628f22179bb0",
   "metadata": {},
   "outputs": [],
   "source": [
    "epoch = 'epoch_13'"
   ]
  },
  {
   "cell_type": "code",
   "execution_count": 12,
   "id": "165b2e8a-6719-4f00-859b-0a7d02cc60e5",
   "metadata": {
    "tags": []
   },
   "outputs": [],
   "source": [
    "# checkpoint path\n",
    "checkpoint_path = os.path.join('mmdetection/work_dirs/focalnet_tiny_maskrcnn/', f'{epoch}.pth')\n",
    "\n",
    "model = build_detector(cfg.model, test_cfg=cfg.get('test_cfg')) # build detector"
   ]
  },
  {
   "cell_type": "code",
   "execution_count": 13,
   "id": "3117fca6-4d7f-4c75-bca9-5efd6b6deca1",
   "metadata": {
    "collapsed": true,
    "jupyter": {
     "outputs_hidden": true
    },
    "tags": []
   },
   "outputs": [
    {
     "name": "stdout",
     "output_type": "stream",
     "text": [
      "load checkpoint from local path: mmdetection/work_dirs/focalnet_tiny_maskrcnn/epoch_13.pth\n"
     ]
    }
   ],
   "source": [
    "checkpoint = load_checkpoint(model, checkpoint_path, map_location='cpu') # ckpt load\n",
    "\n",
    "model.CLASSES = dataset.CLASSES\n",
    "model = MMDataParallel(model.cuda(), device_ids=[0])"
   ]
  },
  {
   "cell_type": "code",
   "execution_count": 14,
   "id": "c9f5c2bb",
   "metadata": {
    "tags": []
   },
   "outputs": [
    {
     "name": "stdout",
     "output_type": "stream",
     "text": [
      "[>>>>>>>>>                  ] 1719/4871, 22.3 task/s, elapsed: 77s, ETA:   141s"
     ]
    }
   ],
   "source": [
    "output = single_gpu_test(model, data_loader, show_score_thr=0.05) # output 계산"
   ]
  },
  {
   "cell_type": "code",
   "execution_count": null,
   "id": "5672a0ff",
   "metadata": {
    "tags": []
   },
   "outputs": [],
   "source": [
    "# submission 양식에 맞게 output 후처리\n",
    "prediction_strings = []\n",
    "file_names = []\n",
    "coco = COCO(cfg.data.test.ann_file)\n",
    "img_ids = coco.getImgIds()\n",
    "\n",
    "class_num = 10\n",
    "for i, out in enumerate(output):\n",
    "    prediction_string = ''\n",
    "    image_info = coco.loadImgs(coco.getImgIds(imgIds=i))[0]\n",
    "    for j in range(class_num):\n",
    "        for o in out[j]:\n",
    "            prediction_string += str(j) + ' ' + str(o[4]) + ' ' + str(o[0]) + ' ' + str(o[1]) + ' ' + str(\n",
    "                o[2]) + ' ' + str(o[3]) + ' '\n",
    "        \n",
    "    prediction_strings.append(prediction_string)\n",
    "    file_names.append(image_info['file_name'])\n",
    "\n",
    "\n",
    "submission = pd.DataFrame()\n",
    "submission['PredictionString'] = prediction_strings\n",
    "submission['image_id'] = file_names\n",
    "# submission.to_csv(os.path.join(cfg.work_dir, f'submission_{epoch}.csv'), index=None)\n",
    "submission.to_csv('submission/focal_t.csv', index=None)\n",
    "submission.head()"
   ]
  },
  {
   "cell_type": "markdown",
   "id": "d983db70-b28c-42d6-aa0c-8ab89e97e107",
   "metadata": {
    "tags": []
   },
   "source": [
    "# for Yolo X (EMA model)"
   ]
  },
  {
   "cell_type": "code",
   "execution_count": null,
   "id": "8dcb52e6-9863-4fd8-aed7-54e46636fc16",
   "metadata": {},
   "outputs": [],
   "source": [
    "import torch"
   ]
  },
  {
   "cell_type": "code",
   "execution_count": null,
   "id": "63cccfa2-bbac-44a9-9253-d43a77e747f0",
   "metadata": {
    "collapsed": true,
    "jupyter": {
     "outputs_hidden": true
    },
    "tags": []
   },
   "outputs": [],
   "source": [
    "checkpoint_path = os.path.join(cfg.work_dir, f'{epoch}.pth')\n",
    "model = build_detector(cfg.model, test_cfg=cfg.get('test_cfg')) # build detector\n",
    "model.eval()"
   ]
  },
  {
   "cell_type": "code",
   "execution_count": null,
   "id": "d32ba627-a607-4bdb-94b7-5a73f7fdbfcd",
   "metadata": {},
   "outputs": [],
   "source": [
    "checkpoint = torch.load(checkpoint_path)['state_dict']"
   ]
  },
  {
   "cell_type": "code",
   "execution_count": null,
   "id": "89e8c67b-bc25-4cde-b800-daa0ddc2b30c",
   "metadata": {
    "collapsed": true,
    "jupyter": {
     "outputs_hidden": true
    },
    "tags": []
   },
   "outputs": [],
   "source": [
    "new_checkpoint = {}\n",
    "for key,val in checkpoint.items():\n",
    "    print(key,val)\n",
    "    break"
   ]
  },
  {
   "cell_type": "code",
   "execution_count": null,
   "id": "2ce35211-5020-4fa0-8c69-71225b38a5f7",
   "metadata": {
    "tags": []
   },
   "outputs": [],
   "source": [
    "#for name, value in model.modules():\n",
    "new_checkpoint = {}\n",
    "for name,_ in model.named_parameters():\n",
    "    new_checkpoint[name] = checkpoint[\"ema_\"+name.replace('.','_')]\n",
    "    #print(name)"
   ]
  },
  {
   "cell_type": "code",
   "execution_count": null,
   "id": "7b94baa7-0c45-478e-826a-37e0d7192eee",
   "metadata": {
    "tags": []
   },
   "outputs": [],
   "source": [
    "model.load_state_dict(new_checkpoint,strict=False)"
   ]
  },
  {
   "cell_type": "code",
   "execution_count": null,
   "id": "92b418de-200f-431f-adc5-f19a64e88710",
   "metadata": {},
   "outputs": [],
   "source": [
    "# checkpoint = load_checkpoint(model, checkpoint_path, map_location='cpu') # ckpt load\n",
    "\n",
    "model.CLASSES = dataset.CLASSES\n",
    "model = MMDataParallel(model.cuda(), device_ids=[0])"
   ]
  },
  {
   "cell_type": "code",
   "execution_count": null,
   "id": "8d6a7940-c987-4269-ac9e-bf9e3154ba73",
   "metadata": {},
   "outputs": [],
   "source": [
    "output = single_gpu_test(model, data_loader, show_score_thr=0.05) # output 계산"
   ]
  },
  {
   "cell_type": "code",
   "execution_count": null,
   "id": "1d193ae2-81ad-4cd9-9145-4abd8d74245d",
   "metadata": {},
   "outputs": [],
   "source": [
    "# submission 양식에 맞게 output 후처리\n",
    "prediction_strings = []\n",
    "file_names = []\n",
    "coco = COCO(cfg.data.test.ann_file)\n",
    "img_ids = coco.getImgIds()\n",
    "\n",
    "class_num = 10\n",
    "for i, out in enumerate(output):\n",
    "    prediction_string = ''\n",
    "    image_info = coco.loadImgs(coco.getImgIds(imgIds=i))[0]\n",
    "    for j in range(class_num):\n",
    "        for o in out[j]:\n",
    "            prediction_string += str(j) + ' ' + str(o[4]) + ' ' + str(o[0]) + ' ' + str(o[1]) + ' ' + str(\n",
    "                o[2]) + ' ' + str(o[3]) + ' '\n",
    "        \n",
    "    prediction_strings.append(prediction_string)\n",
    "    file_names.append(image_info['file_name'])\n",
    "\n",
    "\n",
    "submission = pd.DataFrame()\n",
    "submission['PredictionString'] = prediction_strings\n",
    "submission['image_id'] = file_names\n",
    "submission.to_csv(os.path.join(cfg.work_dir, f'submission_{epoch}.csv'), index=None)\n",
    "submission.head()"
   ]
  },
  {
   "cell_type": "code",
   "execution_count": null,
   "id": "d6af6a03",
   "metadata": {},
   "outputs": [],
   "source": []
  }
 ],
 "metadata": {
  "kernelspec": {
   "display_name": "Python 3.8.13 ('torch': conda)",
   "language": "python",
   "name": "python3"
  },
  "language_info": {
   "codemirror_mode": {
    "name": "ipython",
    "version": 3
   },
   "file_extension": ".py",
   "mimetype": "text/x-python",
   "name": "python",
   "nbconvert_exporter": "python",
   "pygments_lexer": "ipython3",
   "version": "3.8.13"
  },
  "vscode": {
   "interpreter": {
    "hash": "1dc91297f4b5b5407ead7aa1c60484689b5ea8e6dc95a89e4b1c47dbababdfd2"
   }
  }
 },
 "nbformat": 4,
 "nbformat_minor": 5
}
