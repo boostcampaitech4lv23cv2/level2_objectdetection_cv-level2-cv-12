{
 "cells": [
  {
   "cell_type": "code",
   "execution_count": 1,
   "metadata": {},
   "outputs": [],
   "source": [
    "import pandas as pd\n",
    "import json"
   ]
  },
  {
   "cell_type": "code",
   "execution_count": 2,
   "metadata": {},
   "outputs": [],
   "source": [
    "train_img_path = '../../dataset/train/*'\n",
    "train_json_path = '../../dataset/train.json'\n",
    "\n",
    "test_img_path = '../../dataset/test/*'\n",
    "test_json_path = '../../dataset/test.json'\n",
    "\n",
    "model_labeled_csv_path = '../mmdetection/work_dirs/faster_rcnn_res50/submission_latest.csv'"
   ]
  },
  {
   "cell_type": "code",
   "execution_count": null,
   "metadata": {},
   "outputs": [],
   "source": [
    "# --train json 파일 확인\n",
    "\n",
    "# with open(train_json_path, 'r') as f:\n",
    "#     json_data = json.load(f)\n",
    "# print(json.dumps(json_data, indent='\\t'))"
   ]
  },
  {
   "cell_type": "code",
   "execution_count": 13,
   "metadata": {},
   "outputs": [
    {
     "name": "stdout",
     "output_type": "stream",
     "text": [
      "PredictionString    0\n",
      "image_id            0\n",
      "dtype: int64\n"
     ]
    }
   ],
   "source": [
    "# --model이 예측한 csv 파일 확인 및 리스트에 정보 담기\n",
    "\n",
    "df = pd.read_csv(model_labeled_csv_path)\n",
    "df = df.dropna()\n",
    "print(df.isnull().sum())\n",
    "\n",
    "anns_list = list()\n",
    "id = 0\n",
    "for x in df.index:\n",
    "    image_name = df.loc[x][1].split('/')[1]\n",
    "    image_id = int(image_name.split('.')[0])\n",
    "    information = list(df.loc[x][0].split())\n",
    "    for i in range(0, len(information), 6):\n",
    "        label = int(information[i])\n",
    "        # score = float(information[i+1])\n",
    "        xmin = round(float(information[i+2]), 1)\n",
    "        ymin = round(float(information[i+3]), 1)\n",
    "        xmax = round(float(information[i+4]), 1)\n",
    "        ymax = round(float(information[i+5]), 1)\n",
    "        w = round(xmax - xmin, 2)\n",
    "        h = round(ymax - ymin, 2)\n",
    "        area = round(w*h, 2)\n",
    "\n",
    "        ann = dict()\n",
    "        ann['image_id'] = image_id\n",
    "        ann['category_id'] = label\n",
    "        ann['area'] = area\n",
    "        ann['bbox'] = [xmin, ymin, w, h]\n",
    "        ann['iscrowd'] = 0\n",
    "        ann['id'] = id\n",
    "        id += 1\n",
    "        anns_list.append(ann)"
   ]
  },
  {
   "cell_type": "code",
   "execution_count": 14,
   "metadata": {},
   "outputs": [],
   "source": [
    "# --pseudo label json 파일 만들기\n",
    "\n",
    "save_file_path = '../../dataset/pseudo.json'\n",
    "with open(test_json_path, 'r') as f:\n",
    "    json_data = json.load(f)\n",
    "\n",
    "json_data['annotations'] = anns_list\n",
    "\n",
    "with open(save_file_path, 'w', encoding='utf-8') as file:\n",
    "    json.dump(json_data, file, indent='\\t')"
   ]
  }
 ],
 "metadata": {
  "kernelspec": {
   "display_name": "Python 3.7.15 ('detection')",
   "language": "python",
   "name": "python3"
  },
  "language_info": {
   "codemirror_mode": {
    "name": "ipython",
    "version": 3
   },
   "file_extension": ".py",
   "mimetype": "text/x-python",
   "name": "python",
   "nbconvert_exporter": "python",
   "pygments_lexer": "ipython3",
   "version": "3.7.15"
  },
  "orig_nbformat": 4,
  "vscode": {
   "interpreter": {
    "hash": "b94c6de4bce9a87a354a5fa9998691adc0532adddb9d4140f5ba941d00b01fae"
   }
  }
 },
 "nbformat": 4,
 "nbformat_minor": 2
}
