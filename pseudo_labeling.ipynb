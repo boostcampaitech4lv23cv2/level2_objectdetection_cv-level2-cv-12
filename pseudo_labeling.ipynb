{
 "cells": [
  {
   "cell_type": "code",
   "execution_count": 2,
   "metadata": {},
   "outputs": [],
   "source": [
    "import pandas as pd\n",
    "import json"
   ]
  },
  {
   "cell_type": "code",
   "execution_count": 3,
   "metadata": {},
   "outputs": [],
   "source": [
    "train_img_path = '../../dataset/train/*'\n",
    "train_json_path = '../../dataset/train.json'\n",
    "\n",
    "test_img_path = '../../dataset/test/*'\n",
    "test_json_path = '../../dataset/test.json'\n",
    "\n",
    "model_labeled_csv_path = '../mmdetection/work_dirs/faster_rcnn_res50/submission_latest.csv'"
   ]
  },
  {
   "cell_type": "code",
   "execution_count": 15,
   "metadata": {},
   "outputs": [
    {
     "data": {
      "text/html": [
       "<div>\n",
       "<style scoped>\n",
       "    .dataframe tbody tr th:only-of-type {\n",
       "        vertical-align: middle;\n",
       "    }\n",
       "\n",
       "    .dataframe tbody tr th {\n",
       "        vertical-align: top;\n",
       "    }\n",
       "\n",
       "    .dataframe thead th {\n",
       "        text-align: right;\n",
       "    }\n",
       "</style>\n",
       "<table border=\"1\" class=\"dataframe\">\n",
       "  <thead>\n",
       "    <tr style=\"text-align: right;\">\n",
       "      <th></th>\n",
       "      <th>PredictionString</th>\n",
       "      <th>image_id</th>\n",
       "    </tr>\n",
       "  </thead>\n",
       "  <tbody>\n",
       "    <tr>\n",
       "      <th>0</th>\n",
       "      <td>0 0.17261261 237.58946 672.7023 299.2572 748.2...</td>\n",
       "      <td>test/0000.jpg</td>\n",
       "    </tr>\n",
       "    <tr>\n",
       "      <th>1</th>\n",
       "      <td>0 0.4511335 757.7669 659.82947 895.48126 986.0...</td>\n",
       "      <td>test/0001.jpg</td>\n",
       "    </tr>\n",
       "    <tr>\n",
       "      <th>2</th>\n",
       "      <td>0 0.25431386 877.1926 472.16486 1017.22363 635...</td>\n",
       "      <td>test/0002.jpg</td>\n",
       "    </tr>\n",
       "    <tr>\n",
       "      <th>3</th>\n",
       "      <td>0 0.28635767 54.320282 134.41394 1005.4558 868...</td>\n",
       "      <td>test/0003.jpg</td>\n",
       "    </tr>\n",
       "    <tr>\n",
       "      <th>4</th>\n",
       "      <td>0 0.5941855 186.45221 346.1676 897.1718 778.32...</td>\n",
       "      <td>test/0004.jpg</td>\n",
       "    </tr>\n",
       "    <tr>\n",
       "      <th>...</th>\n",
       "      <td>...</td>\n",
       "      <td>...</td>\n",
       "    </tr>\n",
       "    <tr>\n",
       "      <th>4866</th>\n",
       "      <td>0 0.4447822 294.58755 344.97754 669.4094 690.5...</td>\n",
       "      <td>test/4866.jpg</td>\n",
       "    </tr>\n",
       "    <tr>\n",
       "      <th>4867</th>\n",
       "      <td>3 0.95047486 411.95758 316.81677 779.85333 700...</td>\n",
       "      <td>test/4867.jpg</td>\n",
       "    </tr>\n",
       "    <tr>\n",
       "      <th>4868</th>\n",
       "      <td>0 0.22523004 545.2088 527.6001 715.26056 824.6...</td>\n",
       "      <td>test/4868.jpg</td>\n",
       "    </tr>\n",
       "    <tr>\n",
       "      <th>4869</th>\n",
       "      <td>0 0.6614299 13.801971 181.19055 1002.3755 938....</td>\n",
       "      <td>test/4869.jpg</td>\n",
       "    </tr>\n",
       "    <tr>\n",
       "      <th>4870</th>\n",
       "      <td>4 0.98902553 363.52124 194.20029 628.1182 846....</td>\n",
       "      <td>test/4870.jpg</td>\n",
       "    </tr>\n",
       "  </tbody>\n",
       "</table>\n",
       "<p>4871 rows × 2 columns</p>\n",
       "</div>"
      ],
      "text/plain": [
       "                                       PredictionString       image_id\n",
       "0     0 0.17261261 237.58946 672.7023 299.2572 748.2...  test/0000.jpg\n",
       "1     0 0.4511335 757.7669 659.82947 895.48126 986.0...  test/0001.jpg\n",
       "2     0 0.25431386 877.1926 472.16486 1017.22363 635...  test/0002.jpg\n",
       "3     0 0.28635767 54.320282 134.41394 1005.4558 868...  test/0003.jpg\n",
       "4     0 0.5941855 186.45221 346.1676 897.1718 778.32...  test/0004.jpg\n",
       "...                                                 ...            ...\n",
       "4866  0 0.4447822 294.58755 344.97754 669.4094 690.5...  test/4866.jpg\n",
       "4867  3 0.95047486 411.95758 316.81677 779.85333 700...  test/4867.jpg\n",
       "4868  0 0.22523004 545.2088 527.6001 715.26056 824.6...  test/4868.jpg\n",
       "4869  0 0.6614299 13.801971 181.19055 1002.3755 938....  test/4869.jpg\n",
       "4870  4 0.98902553 363.52124 194.20029 628.1182 846....  test/4870.jpg\n",
       "\n",
       "[4871 rows x 2 columns]"
      ]
     },
     "execution_count": 15,
     "metadata": {},
     "output_type": "execute_result"
    }
   ],
   "source": [
    "df = pd.read_csv(model_labeled_csv_path)\n",
    "\n",
    "df"
   ]
  },
  {
   "cell_type": "code",
   "execution_count": null,
   "metadata": {},
   "outputs": [],
   "source": [
    "# --train json 파일 확인\n",
    "\n",
    "with open(train_json_path, 'r') as f:\n",
    "    json_data = json.load(f)\n",
    "print(json.dumps(json_data, indent='\\t'))"
   ]
  },
  {
   "cell_type": "code",
   "execution_count": 32,
   "metadata": {},
   "outputs": [
    {
     "name": "stdout",
     "output_type": "stream",
     "text": [
      "PredictionString    0\n",
      "image_id            0\n",
      "dtype: int64\n"
     ]
    }
   ],
   "source": [
    "# --model이 예측한 csv 파일 확인 및 리스트에 정보 담기\n",
    "\n",
    "df = pd.read_csv(model_labeled_csv_path)\n",
    "df = df.dropna()\n",
    "print(df.isnull().sum())\n",
    "\n",
    "anns_list = list()\n",
    "id = 0\n",
    "for x in df.index:\n",
    "    image_name = df.loc[x][1].split('/')[1]\n",
    "    image_id = int(image_name.split('.')[0])\n",
    "    information = list(df.loc[x][0].split())\n",
    "    for i in range(0, len(information), 6):\n",
    "        label = int(information[i])\n",
    "        score = float(information[i+1])\n",
    "        xmin = round(float(information[i+2]), 1)\n",
    "        ymin = round(float(information[i+3]), 1)\n",
    "        xmax = round(float(information[i+4]), 1)\n",
    "        ymax = round(float(information[i+5]), 1)\n",
    "        w = round(xmax - xmin, 2)\n",
    "        h = round(ymax - ymin, 2)\n",
    "        area = round(w*h, 2)\n",
    "\n",
    "        if score > 0.3:\n",
    "            ann = dict()\n",
    "            ann['image_id'] = image_id\n",
    "            ann['category_id'] = label\n",
    "            ann['area'] = area\n",
    "            ann['bbox'] = [xmin, ymin, w, h]\n",
    "            ann['iscrowd'] = 0\n",
    "            ann['id'] = id\n",
    "            id += 1\n",
    "            anns_list.append(ann)"
   ]
  },
  {
   "cell_type": "code",
   "execution_count": 33,
   "metadata": {},
   "outputs": [],
   "source": [
    "# --pseudo label json 파일 만들기\n",
    "\n",
    "save_file_path = '../../dataset/pseudo.json'\n",
    "with open(test_json_path, 'r') as f:\n",
    "    json_data = json.load(f)\n",
    "\n",
    "json_data['annotations'] = anns_list\n",
    "\n",
    "with open(save_file_path, 'w', encoding='utf-8') as file:\n",
    "    json.dump(json_data, file, indent='\\t')"
   ]
  }
 ],
 "metadata": {
  "kernelspec": {
   "display_name": "Python 3.7.15 ('detection')",
   "language": "python",
   "name": "python3"
  },
  "language_info": {
   "codemirror_mode": {
    "name": "ipython",
    "version": 3
   },
   "file_extension": ".py",
   "mimetype": "text/x-python",
   "name": "python",
   "nbconvert_exporter": "python",
   "pygments_lexer": "ipython3",
   "version": "3.7.15"
  },
  "orig_nbformat": 4,
  "vscode": {
   "interpreter": {
    "hash": "b94c6de4bce9a87a354a5fa9998691adc0532adddb9d4140f5ba941d00b01fae"
   }
  }
 },
 "nbformat": 4,
 "nbformat_minor": 2
}
