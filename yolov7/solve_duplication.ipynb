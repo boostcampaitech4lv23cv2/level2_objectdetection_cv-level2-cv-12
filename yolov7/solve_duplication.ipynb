{
 "cells": [
  {
   "cell_type": "code",
   "execution_count": 22,
   "metadata": {},
   "outputs": [],
   "source": [
    "train_path = '../../dataset/yolo_train/train/*'\n",
    "val_path = '../../dataset/yolo_train/val/*'"
   ]
  },
  {
   "cell_type": "code",
   "execution_count": null,
   "metadata": {},
   "outputs": [],
   "source": [
    "import os\n",
    "import glob"
   ]
  },
  {
   "cell_type": "code",
   "execution_count": null,
   "metadata": {},
   "outputs": [],
   "source": [
    "train_json = list()\n",
    "del_train_jpg = list()\n",
    "for i in glob.glob(train_path):\n",
    "    img_name = i.split('/')[-1]\n",
    "\n",
    "    if '.txt' in img_name:\n",
    "        train_json.append(img_name)\n",
    "\n",
    "for j in glob.glob(train_path):\n",
    "    check_image_name = j.split('/')[-1]\n",
    "    if not (check_image_name[:4]+'.txt') in train_json:\n",
    "        del_train_jpg.append(check_image_name)\n",
    "\n",
    "for x in del_train_jpg:\n",
    "    x = os.path.join('../../dataset/yolo_train/train/', x)\n",
    "    os.remove(x)"
   ]
  },
  {
   "cell_type": "code",
   "execution_count": null,
   "metadata": {},
   "outputs": [],
   "source": [
    "val_json = list()\n",
    "del_val_jpg = list()\n",
    "for i in glob.glob(val_path):\n",
    "    img_name = i.split('/')[-1]\n",
    "\n",
    "    if '.txt' in img_name:\n",
    "        val_json.append(img_name)\n",
    "\n",
    "\n",
    "for j in glob.glob(val_path):\n",
    "    check_image_name = j.split('/')[-1]\n",
    "    if not (check_image_name[:4]+'.txt') in val_json:\n",
    "        del_val_jpg.append(check_image_name)\n",
    "\n",
    "for x in del_val_jpg:\n",
    "    x = os.path.join('../../dataset/yolo_train/val/', x)\n",
    "    os.remove(x)"
   ]
  }
 ],
 "metadata": {
  "kernelspec": {
   "display_name": "Python 3.7.15 ('detection')",
   "language": "python",
   "name": "python3"
  },
  "language_info": {
   "codemirror_mode": {
    "name": "ipython",
    "version": 3
   },
   "file_extension": ".py",
   "mimetype": "text/x-python",
   "name": "python",
   "nbconvert_exporter": "python",
   "pygments_lexer": "ipython3",
   "version": "3.7.15"
  },
  "orig_nbformat": 4,
  "vscode": {
   "interpreter": {
    "hash": "b94c6de4bce9a87a354a5fa9998691adc0532adddb9d4140f5ba941d00b01fae"
   }
  }
 },
 "nbformat": 4,
 "nbformat_minor": 2
}
