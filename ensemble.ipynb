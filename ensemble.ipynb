{
 "cells": [
  {
   "cell_type": "code",
   "execution_count": 1,
   "metadata": {},
   "outputs": [
    {
     "name": "stdout",
     "output_type": "stream",
     "text": [
      "Collecting ensemble-boxes\n",
      "  Downloading ensemble_boxes-1.0.9-py3-none-any.whl (23 kB)\n",
      "Requirement already satisfied: pandas in /opt/conda/envs/detection/lib/python3.7/site-packages (from ensemble-boxes) (1.3.5)\n",
      "Collecting numba\n",
      "  Downloading numba-0.56.4-cp37-cp37m-manylinux2014_x86_64.manylinux_2_17_x86_64.whl (3.5 MB)\n",
      "\u001b[2K     \u001b[90m━━━━━━━━━━━━━━━━━━━━━━━━━━━━━━━━━━━━━━━━\u001b[0m \u001b[32m3.5/3.5 MB\u001b[0m \u001b[31m18.4 MB/s\u001b[0m eta \u001b[36m0:00:00\u001b[0m00:01\u001b[0m00:01\u001b[0m\n",
      "\u001b[?25hRequirement already satisfied: numpy in /opt/conda/envs/detection/lib/python3.7/site-packages (from ensemble-boxes) (1.21.5)\n",
      "Requirement already satisfied: importlib-metadata in /opt/conda/envs/detection/lib/python3.7/site-packages (from numba->ensemble-boxes) (5.0.0)\n",
      "Collecting llvmlite<0.40,>=0.39.0dev0\n",
      "  Downloading llvmlite-0.39.1-cp37-cp37m-manylinux_2_17_x86_64.manylinux2014_x86_64.whl (34.6 MB)\n",
      "\u001b[2K     \u001b[90m━━━━━━━━━━━━━━━━━━━━━━━━━━━━━━━━━━━━━━━━\u001b[0m \u001b[32m34.6/34.6 MB\u001b[0m \u001b[31m31.2 MB/s\u001b[0m eta \u001b[36m0:00:00\u001b[0m00:01\u001b[0m00:01\u001b[0m\n",
      "\u001b[?25hRequirement already satisfied: setuptools in /opt/conda/envs/detection/lib/python3.7/site-packages (from numba->ensemble-boxes) (65.5.0)\n",
      "Requirement already satisfied: pytz>=2017.3 in /opt/conda/envs/detection/lib/python3.7/site-packages (from pandas->ensemble-boxes) (2022.6)\n",
      "Requirement already satisfied: python-dateutil>=2.7.3 in /opt/conda/envs/detection/lib/python3.7/site-packages (from pandas->ensemble-boxes) (2.8.2)\n",
      "Requirement already satisfied: six>=1.5 in /opt/conda/envs/detection/lib/python3.7/site-packages (from python-dateutil>=2.7.3->pandas->ensemble-boxes) (1.16.0)\n",
      "Requirement already satisfied: typing-extensions>=3.6.4 in /opt/conda/envs/detection/lib/python3.7/site-packages (from importlib-metadata->numba->ensemble-boxes) (4.3.0)\n",
      "Requirement already satisfied: zipp>=0.5 in /opt/conda/envs/detection/lib/python3.7/site-packages (from importlib-metadata->numba->ensemble-boxes) (3.10.0)\n",
      "Installing collected packages: llvmlite, numba, ensemble-boxes\n",
      "Successfully installed ensemble-boxes-1.0.9 llvmlite-0.39.1 numba-0.56.4\n",
      "\u001b[33mWARNING: Running pip as the 'root' user can result in broken permissions and conflicting behaviour with the system package manager. It is recommended to use a virtual environment instead: https://pip.pypa.io/warnings/venv\u001b[0m\u001b[33m\n",
      "\u001b[0m"
     ]
    }
   ],
   "source": [
    "!pip install ensemble-boxes"
   ]
  },
  {
   "cell_type": "code",
   "execution_count": 7,
   "metadata": {},
   "outputs": [],
   "source": [
    "import pandas as pd\n",
    "from ensemble_boxes import *\n",
    "import numpy as np\n",
    "from pycocotools.coco import COCO\n",
    "import cv2\n",
    "import matplotlib.pyplot as plt\n",
    "import copy"
   ]
  },
  {
   "cell_type": "code",
   "execution_count": 8,
   "metadata": {},
   "outputs": [],
   "source": [
    "# 합치고 싶은 csv 파일\n",
    "submission_files = ['./submission/yolox.csv',\n",
    "                #    './submission/2stage.csv',\n",
    "                   './submission/yolov7x.csv']\n",
    "                   \n",
    "submission_df = [pd.read_csv(file) for file in submission_files]"
   ]
  },
  {
   "cell_type": "code",
   "execution_count": 9,
   "metadata": {},
   "outputs": [],
   "source": [
    "image_ids = submission_df[0]['image_id'].tolist()"
   ]
  },
  {
   "cell_type": "code",
   "execution_count": 10,
   "metadata": {},
   "outputs": [
    {
     "name": "stdout",
     "output_type": "stream",
     "text": [
      "loading annotations into memory...\n",
      "Done (t=0.01s)\n",
      "creating index...\n",
      "index created!\n"
     ]
    }
   ],
   "source": [
    "annotation = '../../dataset/test.json'\n",
    "coco = COCO(annotation)"
   ]
  },
  {
   "cell_type": "code",
   "execution_count": 11,
   "metadata": {},
   "outputs": [
    {
     "name": "stderr",
     "output_type": "stream",
     "text": [
      "/opt/conda/envs/detection/lib/python3.7/site-packages/ensemble_boxes/ensemble_boxes_wbf.py:54: UserWarning: Y1 < 0 in box. Set it to 0.\n",
      "  warnings.warn('Y1 < 0 in box. Set it to 0.')\n",
      "/opt/conda/envs/detection/lib/python3.7/site-packages/ensemble_boxes/ensemble_boxes_wbf.py:51: UserWarning: X2 > 1 in box. Set it to 1. Check that you normalize boxes in [0, 1] range.\n",
      "  warnings.warn('X2 > 1 in box. Set it to 1. Check that you normalize boxes in [0, 1] range.')\n",
      "/opt/conda/envs/detection/lib/python3.7/site-packages/ensemble_boxes/ensemble_boxes_wbf.py:63: UserWarning: Y2 > 1 in box. Set it to 1. Check that you normalize boxes in [0, 1] range.\n",
      "  warnings.warn('Y2 > 1 in box. Set it to 1. Check that you normalize boxes in [0, 1] range.')\n",
      "/opt/conda/envs/detection/lib/python3.7/site-packages/ensemble_boxes/ensemble_boxes_wbf.py:42: UserWarning: X1 < 0 in box. Set it to 0.\n",
      "  warnings.warn('X1 < 0 in box. Set it to 0.')\n",
      "/opt/conda/envs/detection/lib/python3.7/site-packages/ensemble_boxes/ensemble_boxes_wbf.py:66: UserWarning: Zero area box skipped: [0.0, 0.715625, 0.0, 0.77421875].\n",
      "  warnings.warn(\"Zero area box skipped: {}.\".format(box_part))\n",
      "/opt/conda/envs/detection/lib/python3.7/site-packages/ensemble_boxes/ensemble_boxes_wbf.py:66: UserWarning: Zero area box skipped: [0.3765625, 0.0, 0.58359375, 0.0].\n",
      "  warnings.warn(\"Zero area box skipped: {}.\".format(box_part))\n",
      "/opt/conda/envs/detection/lib/python3.7/site-packages/ensemble_boxes/ensemble_boxes_wbf.py:66: UserWarning: Zero area box skipped: [0.425, 0.0, 0.61640625, 0.0].\n",
      "  warnings.warn(\"Zero area box skipped: {}.\".format(box_part))\n",
      "/opt/conda/envs/detection/lib/python3.7/site-packages/ensemble_boxes/ensemble_boxes_wbf.py:66: UserWarning: Zero area box skipped: [0.0, 0.399609375, 0.0, 0.7796875].\n",
      "  warnings.warn(\"Zero area box skipped: {}.\".format(box_part))\n"
     ]
    }
   ],
   "source": [
    "prediction_strings = []\n",
    "file_names = []\n",
    "\n",
    "# 여기 수정 가능\n",
    "iou_thr = 0.5\n",
    "\n",
    "for i, image_id in enumerate(image_ids):\n",
    "    prediction_string = ''\n",
    "    boxes_list = []\n",
    "    scores_list = []\n",
    "    labels_list = []\n",
    "    image_info = coco.loadImgs(i)[0]\n",
    "\n",
    "    for df in submission_df:\n",
    "        predict_string = df[df['image_id'] == image_id]['PredictionString'].tolist()[0]\n",
    "        predict_list = str(predict_string).split()\n",
    "        \n",
    "        if len(predict_list)==0 or len(predict_list)==1:\n",
    "            continue\n",
    "            \n",
    "        predict_list = np.reshape(predict_list, (-1, 6))\n",
    "        box_list = []\n",
    "        \n",
    "        for box in predict_list[:, 2:6].tolist():\n",
    "            box[0] = float(box[0]) / image_info['width']\n",
    "            box[1] = float(box[1]) / image_info['height']\n",
    "            box[2] = float(box[2]) / image_info['width']\n",
    "            box[3] = float(box[3]) / image_info['height']\n",
    "            box_list.append(box)\n",
    "            \n",
    "        boxes_list.append(box_list)\n",
    "        scores_list.append(list(map(float, predict_list[:, 1].tolist())))\n",
    "        labels_list.append(list(map(int, predict_list[:, 0].tolist())))\n",
    "\n",
    "    if len(boxes_list):\n",
    "        # boxes, scores, labels = weighted_boxes_fusion(boxes_list, scores_list, labels_list, iou_thr=iou_thr)\n",
    "        boxes, scores, labels = weighted_boxes_fusion(boxes_list, scores_list, labels_list, iou_thr=iou_thr)\n",
    "        \n",
    "        for box, score, label in zip(boxes, scores, labels):\n",
    "            prediction_string += str(int(label)) + ' ' + str(score) + ' ' + str(box[0] * image_info['width']) + ' ' + str(box[1] * image_info['height']) + ' ' + str(box[2] * image_info['width']) + ' ' + str(box[3] * image_info['height']) + ' '\n",
    "    \n",
    "    prediction_strings.append(prediction_string)\n",
    "    file_names.append(image_id)"
   ]
  },
  {
   "cell_type": "code",
   "execution_count": 12,
   "metadata": {},
   "outputs": [
    {
     "data": {
      "text/html": [
       "<div>\n",
       "<style scoped>\n",
       "    .dataframe tbody tr th:only-of-type {\n",
       "        vertical-align: middle;\n",
       "    }\n",
       "\n",
       "    .dataframe tbody tr th {\n",
       "        vertical-align: top;\n",
       "    }\n",
       "\n",
       "    .dataframe thead th {\n",
       "        text-align: right;\n",
       "    }\n",
       "</style>\n",
       "<table border=\"1\" class=\"dataframe\">\n",
       "  <thead>\n",
       "    <tr style=\"text-align: right;\">\n",
       "      <th></th>\n",
       "      <th>PredictionString</th>\n",
       "      <th>image_id</th>\n",
       "    </tr>\n",
       "  </thead>\n",
       "  <tbody>\n",
       "    <tr>\n",
       "      <th>0</th>\n",
       "      <td>7 0.9674451351165771 602.1365966796875 515.950...</td>\n",
       "      <td>test/0000.jpg</td>\n",
       "    </tr>\n",
       "    <tr>\n",
       "      <th>1</th>\n",
       "      <td>5 0.8365427255630493 341.8946533203125 250.281...</td>\n",
       "      <td>test/0001.jpg</td>\n",
       "    </tr>\n",
       "    <tr>\n",
       "      <th>2</th>\n",
       "      <td>1 0.5879637002944946 72.44973754882812 273.167...</td>\n",
       "      <td>test/0002.jpg</td>\n",
       "    </tr>\n",
       "    <tr>\n",
       "      <th>3</th>\n",
       "      <td>9 0.8580628037452698 138.92601013183594 255.84...</td>\n",
       "      <td>test/0003.jpg</td>\n",
       "    </tr>\n",
       "    <tr>\n",
       "      <th>4</th>\n",
       "      <td>1 0.29580771923065186 206.56021118164062 258.2...</td>\n",
       "      <td>test/0004.jpg</td>\n",
       "    </tr>\n",
       "  </tbody>\n",
       "</table>\n",
       "</div>"
      ],
      "text/plain": [
       "                                    PredictionString       image_id\n",
       "0  7 0.9674451351165771 602.1365966796875 515.950...  test/0000.jpg\n",
       "1  5 0.8365427255630493 341.8946533203125 250.281...  test/0001.jpg\n",
       "2  1 0.5879637002944946 72.44973754882812 273.167...  test/0002.jpg\n",
       "3  9 0.8580628037452698 138.92601013183594 255.84...  test/0003.jpg\n",
       "4  1 0.29580771923065186 206.56021118164062 258.2...  test/0004.jpg"
      ]
     },
     "execution_count": 12,
     "metadata": {},
     "output_type": "execute_result"
    }
   ],
   "source": [
    "submission = pd.DataFrame()\n",
    "submission['PredictionString'] = prediction_strings\n",
    "submission['image_id'] = file_names\n",
    "submission.to_csv('./submission/wbf_ensemble.csv')\n",
    "\n",
    "submission.head()"
   ]
  }
 ],
 "metadata": {
  "kernelspec": {
   "display_name": "Python 3.7.15 ('detection')",
   "language": "python",
   "name": "python3"
  },
  "language_info": {
   "codemirror_mode": {
    "name": "ipython",
    "version": 3
   },
   "file_extension": ".py",
   "mimetype": "text/x-python",
   "name": "python",
   "nbconvert_exporter": "python",
   "pygments_lexer": "ipython3",
   "version": "3.7.15"
  },
  "orig_nbformat": 4,
  "vscode": {
   "interpreter": {
    "hash": "b94c6de4bce9a87a354a5fa9998691adc0532adddb9d4140f5ba941d00b01fae"
   }
  }
 },
 "nbformat": 4,
 "nbformat_minor": 2
}
