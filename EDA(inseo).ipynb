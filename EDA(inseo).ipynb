{
 "cells": [
  {
   "cell_type": "markdown",
   "id": "cedf4d80-ca20-4c05-a314-4571f6d5400e",
   "metadata": {
    "tags": []
   },
   "source": [
    "# 제공해준 EDA가 너무 잘되있어서 EDA는 skip하고 bbox viz만"
   ]
  },
  {
   "cell_type": "code",
   "execution_count": 2,
   "id": "012d3f36-bd9e-47ba-b135-16a215366c45",
   "metadata": {},
   "outputs": [],
   "source": [
    "import pandas as pd\n",
    "import numpy as np\n",
    "import json\n",
    "from pycocotools.coco import COCO\n",
    "\n",
    "import matplotlib.pyplot as plt\n",
    "import seaborn as sns\n",
    "\n",
    "import warnings\n",
    "warnings.filterwarnings(action='ignore')"
   ]
  },
  {
   "cell_type": "code",
   "execution_count": 3,
   "id": "3b0e926f-b33e-4541-a3f4-8ccc4ec5a234",
   "metadata": {},
   "outputs": [],
   "source": [
    "GT_JSON = '../dataset/train.json'\n",
    "PRED_CSV = '../sample_submission/train_sample.csv'\n",
    "LABEL_NAME = [\"General trash\", \"Paper\", \"Paper pack\", \"Metal\", \n",
    "              \"Glass\", \"Plastic\", \"Styrofoam\", \"Plastic bag\", \"Battery\", \"Clothing\"]\n",
    "\n",
    "# load ground truth\n",
    "with open(GT_JSON, 'r') as outfile:\n",
    "    test_anno = (json.load(outfile)) \n",
    "    # test_anno : 5개의 key('info', 'licenses', 'images', 'categories', 'annotations')들로 이루어진 dict\n",
    "    # info : dataset 정보?\n",
    "    # licenses : dataset licenses\n",
    "    # images : 각 image들의 정보(file 위치, width, height, id <- image의 고유 번호)\n",
    "    # categories : class 정보 (총 10개의 class)\n",
    "    # annotations : 모든 iamge들의 annotation정보(category_id와 bbox 좌표)\n",
    "\n",
    "# load prediction\n",
    "pred_df = pd.read_csv(PRED_CSV)"
   ]
  },
  {
   "cell_type": "code",
   "execution_count": 4,
   "id": "9f473d55-c106-474c-b948-b89f9b83d5bf",
   "metadata": {
    "tags": []
   },
   "outputs": [],
   "source": [
    "image_df = pd.DataFrame(test_anno['images']).set_index('id')\n",
    "anno_df = pd.DataFrame(test_anno['annotations'])"
   ]
  },
  {
   "cell_type": "markdown",
   "id": "8fb4a3e4-7692-49f4-8caa-cf0e20267ed1",
   "metadata": {
    "tags": []
   },
   "source": [
    "# EDA"
   ]
  },
  {
   "cell_type": "markdown",
   "id": "168160f2-b375-46cf-8b76-ee5a3e1f89c1",
   "metadata": {
    "tags": []
   },
   "source": [
    "## category"
   ]
  },
  {
   "cell_type": "markdown",
   "id": "58f067c4-cd04-44c6-9133-4f1e4e1de582",
   "metadata": {
    "jp-MarkdownHeadingCollapsed": true,
    "tags": []
   },
   "source": [
    "- category description"
   ]
  },
  {
   "cell_type": "code",
   "execution_count": 5,
   "id": "855c8af8-5932-41c5-8d33-7bfa55e35c0d",
   "metadata": {},
   "outputs": [
    {
     "data": {
      "text/plain": [
       "['0 : General trash',\n",
       " '1 : Paper',\n",
       " '2 : Paper pack',\n",
       " '3 : Metal',\n",
       " '4 : Glass',\n",
       " '5 : Plastic',\n",
       " '6 : Styrofoam',\n",
       " '7 : Plastic bag',\n",
       " '8 : Battery',\n",
       " '9 : Clothing']"
      ]
     },
     "execution_count": 5,
     "metadata": {},
     "output_type": "execute_result"
    }
   ],
   "source": [
    "[str(i['id'])+\" : \"+i['name'] for i in test_anno['categories']]"
   ]
  },
  {
   "cell_type": "markdown",
   "id": "d9b223b5-0848-4bc9-96dc-89221737809c",
   "metadata": {},
   "source": [
    "- category distribution"
   ]
  },
  {
   "cell_type": "code",
   "execution_count": 6,
   "id": "5dd1233f-736a-45be-ad17-85131d6c6e33",
   "metadata": {
    "tags": []
   },
   "outputs": [
    {
     "data": {
      "image/png": "[encoded data removed]",
      "text/plain": [
       "<Figure size 640x480 with 1 Axes>"
      ]
     },
     "metadata": {},
     "output_type": "display_data"
    },
    {
     "name": "stdout",
     "output_type": "stream",
     "text": [
      "0    3966\n",
      "1    6352\n",
      "2     897\n",
      "3     936\n",
      "4     982\n",
      "5    2943\n",
      "6    1263\n",
      "7    5178\n",
      "8     159\n",
      "9     468\n",
      "Name: category_id, dtype: int64\n"
     ]
    }
   ],
   "source": [
    "category_ids = anno_df['category_id']\n",
    "sns.distplot(category_ids,kde=False)\n",
    "plt.title('category distribution')\n",
    "plt.show()\n",
    "print(category_ids.value_counts().sort_index())"
   ]
  },
  {
   "cell_type": "markdown",
   "id": "3df71118-ff4f-4adf-a2af-de20efc368b9",
   "metadata": {},
   "source": [
    "- object 크기"
   ]
  },
  {
   "cell_type": "code",
   "execution_count": 7,
   "id": "b68b4d0c-532f-40c9-9168-2e6c5c371991",
   "metadata": {},
   "outputs": [
    {
     "name": "stdout",
     "output_type": "stream",
     "text": [
      "0 : mean : 78860.1473676248 min : 0.56 max : 1048064.06\n",
      "1 : mean : 92044.19632241812 min : 3.12 max : 1048064.06\n",
      "2 : mean : 76116.49507246376 min : 66.25 max : 900676.93\n",
      "3 : mean : 91644.37852564103 min : 275.12 max : 745866.82\n",
      "4 : mean : 69338.11749490835 min : 666.05 max : 699923.9\n",
      "5 : mean : 80990.61240910635 min : 105.08 max : 1047961.69\n",
      "6 : mean : 97589.45237529691 min : 682.95 max : 992374.78\n",
      "7 : mean : 110357.69823290847 min : 301.71 max : 1048371.21\n",
      "8 : mean : 50409.96371069182 min : 1639.08 max : 285908.24\n",
      "9 : mean : 189349.35598290598 min : 867.92 max : 1047961.69\n"
     ]
    }
   ],
   "source": [
    "for category_id in range(10):\n",
    "    target_area = anno_df[anno_df['category_id'] == category_id]['area']\n",
    "    print(category_id,':',\"mean :\",target_area.mean(),\"min :\",target_area.min(),\"max :\",target_area.max())"
   ]
  },
  {
   "cell_type": "markdown",
   "id": "170fa263-51f5-4ea6-ac81-f7c3ccb2dc02",
   "metadata": {
    "jp-MarkdownHeadingCollapsed": true,
    "tags": []
   },
   "source": [
    "## "
   ]
  },
  {
   "cell_type": "markdown",
   "id": "3c3b5b10-f9d1-455c-83d3-ccbbf35e959e",
   "metadata": {
    "tags": []
   },
   "source": [
    "## category per image "
   ]
  },
  {
   "cell_type": "code",
   "execution_count": 8,
   "id": "063a83b2-fbb5-497a-9247-e83befa41394",
   "metadata": {
    "tags": []
   },
   "outputs": [],
   "source": [
    "L = [[] for _ in range(len(image_df))]\n",
    "for _, data  in anno_df.iterrows():\n",
    "    image_id = data['image_id']\n",
    "    L[image_id].append(data['category_id'])\n",
    "\n",
    "image_df = image_df.assign(categories=pd.Series(L).values)\n",
    "image_df['num_category'] = image_df['categories'].apply(lambda x:len(x))"
   ]
  },
  {
   "cell_type": "code",
   "execution_count": 9,
   "id": "b245c7f7-943a-46e1-9ba8-d666c6ce1313",
   "metadata": {},
   "outputs": [
    {
     "data": {
      "text/plain": [
       "count    4883.000000\n",
       "mean        4.739709\n",
       "std         6.355155\n",
       "min         1.000000\n",
       "25%         1.000000\n",
       "50%         2.000000\n",
       "75%         6.000000\n",
       "max        71.000000\n",
       "Name: num_category, dtype: float64"
      ]
     },
     "execution_count": 9,
     "metadata": {},
     "output_type": "execute_result"
    }
   ],
   "source": [
    "image_df['num_category'].describe()"
   ]
  },
  {
   "cell_type": "code",
   "execution_count": 12,
   "id": "578ea656-72c6-43c9-979e-0863022b6c75",
   "metadata": {},
   "outputs": [
    {
     "data": {
      "text/html": [
       "<div>\n",
       "<style scoped>\n",
       "    .dataframe tbody tr th:only-of-type {\n",
       "        vertical-align: middle;\n",
       "    }\n",
       "\n",
       "    .dataframe tbody tr th {\n",
       "        vertical-align: top;\n",
       "    }\n",
       "\n",
       "    .dataframe thead th {\n",
       "        text-align: right;\n",
       "    }\n",
       "</style>\n",
       "<table border=\"1\" class=\"dataframe\">\n",
       "  <thead>\n",
       "    <tr style=\"text-align: right;\">\n",
       "      <th></th>\n",
       "      <th>width</th>\n",
       "      <th>height</th>\n",
       "      <th>file_name</th>\n",
       "      <th>license</th>\n",
       "      <th>flickr_url</th>\n",
       "      <th>coco_url</th>\n",
       "      <th>date_captured</th>\n",
       "      <th>categories</th>\n",
       "      <th>num_category</th>\n",
       "    </tr>\n",
       "    <tr>\n",
       "      <th>id</th>\n",
       "      <th></th>\n",
       "      <th></th>\n",
       "      <th></th>\n",
       "      <th></th>\n",
       "      <th></th>\n",
       "      <th></th>\n",
       "      <th></th>\n",
       "      <th></th>\n",
       "      <th></th>\n",
       "    </tr>\n",
       "  </thead>\n",
       "  <tbody>\n",
       "    <tr>\n",
       "      <th>4197</th>\n",
       "      <td>1024</td>\n",
       "      <td>1024</td>\n",
       "      <td>train/4197.jpg</td>\n",
       "      <td>0</td>\n",
       "      <td>None</td>\n",
       "      <td>None</td>\n",
       "      <td>2021-04-28 12:26:16</td>\n",
       "      <td>[5, 1, 0, 0, 4, 2, 7, 1, 0, 0, 1, 0, 0, 0, 0, ...</td>\n",
       "      <td>71</td>\n",
       "    </tr>\n",
       "  </tbody>\n",
       "</table>\n",
       "</div>"
      ],
      "text/plain": [
       "      width  height       file_name  license flickr_url coco_url  \\\n",
       "id                                                                 \n",
       "4197   1024    1024  train/4197.jpg        0       None     None   \n",
       "\n",
       "            date_captured                                         categories  \\\n",
       "id                                                                             \n",
       "4197  2021-04-28 12:26:16  [5, 1, 0, 0, 4, 2, 7, 1, 0, 0, 1, 0, 0, 0, 0, ...   \n",
       "\n",
       "      num_category  \n",
       "id                  \n",
       "4197            71  "
      ]
     },
     "execution_count": 12,
     "metadata": {},
     "output_type": "execute_result"
    }
   ],
   "source": [
    "image_df[image_df['num_category']>=70]"
   ]
  },
  {
   "cell_type": "code",
   "execution_count": 10,
   "id": "60ac6904-baa5-4600-9609-9b7902e57a6e",
   "metadata": {},
   "outputs": [
    {
     "data": {
      "image/png": "[encoded data removed]",
      "text/plain": [
       "<Figure size 640x480 with 1 Axes>"
      ]
     },
     "metadata": {},
     "output_type": "display_data"
    }
   ],
   "source": [
    "sns.distplot(image_df['num_category'],kde=False)\n",
    "plt.title('#category per image')\n",
    "plt.show()"
   ]
  },
  {
   "cell_type": "markdown",
   "id": "263ac566-24a6-44c8-88ac-698851b17c53",
   "metadata": {},
   "source": [
    "- cdf (cumulative distribution function)"
   ]
  },
  {
   "cell_type": "code",
   "execution_count": 10,
   "id": "38b3a87f-8764-4b1e-a20a-61347c7fb311",
   "metadata": {},
   "outputs": [
    {
     "data": {
      "image/png": "[encoded data removed]",
      "text/plain": [
       "<Figure size 640x480 with 1 Axes>"
      ]
     },
     "metadata": {},
     "output_type": "display_data"
    }
   ],
   "source": [
    "plt.hist(image_df['num_category'], density=True, cumulative=True, label='CDF',histtype='step', alpha=0.8)\n",
    "plt.title('#category per image (cdf)')\n",
    "plt.show()"
   ]
  },
  {
   "cell_type": "markdown",
   "id": "3f6ef7c7-56a2-4e03-aa79-f9a32846b147",
   "metadata": {
    "jp-MarkdownHeadingCollapsed": true,
    "tags": []
   },
   "source": [
    "# Bbox Visualizie"
   ]
  },
  {
   "cell_type": "code",
   "execution_count": 6,
   "id": "a7c31b3a-6367-4eae-97ac-f300bcaf1295",
   "metadata": {},
   "outputs": [
    {
     "data": {
      "text/html": [
       "<div>\n",
       "<style scoped>\n",
       "    .dataframe tbody tr th:only-of-type {\n",
       "        vertical-align: middle;\n",
       "    }\n",
       "\n",
       "    .dataframe tbody tr th {\n",
       "        vertical-align: top;\n",
       "    }\n",
       "\n",
       "    .dataframe thead th {\n",
       "        text-align: right;\n",
       "    }\n",
       "</style>\n",
       "<table border=\"1\" class=\"dataframe\">\n",
       "  <thead>\n",
       "    <tr style=\"text-align: right;\">\n",
       "      <th></th>\n",
       "      <th>width</th>\n",
       "      <th>height</th>\n",
       "      <th>file_name</th>\n",
       "      <th>license</th>\n",
       "      <th>flickr_url</th>\n",
       "      <th>coco_url</th>\n",
       "      <th>date_captured</th>\n",
       "    </tr>\n",
       "    <tr>\n",
       "      <th>id</th>\n",
       "      <th></th>\n",
       "      <th></th>\n",
       "      <th></th>\n",
       "      <th></th>\n",
       "      <th></th>\n",
       "      <th></th>\n",
       "      <th></th>\n",
       "    </tr>\n",
       "  </thead>\n",
       "  <tbody>\n",
       "    <tr>\n",
       "      <th>0</th>\n",
       "      <td>1024</td>\n",
       "      <td>1024</td>\n",
       "      <td>train/0000.jpg</td>\n",
       "      <td>0</td>\n",
       "      <td>None</td>\n",
       "      <td>None</td>\n",
       "      <td>2020-12-26 14:44:23</td>\n",
       "    </tr>\n",
       "    <tr>\n",
       "      <th>1</th>\n",
       "      <td>1024</td>\n",
       "      <td>1024</td>\n",
       "      <td>train/0001.jpg</td>\n",
       "      <td>0</td>\n",
       "      <td>None</td>\n",
       "      <td>None</td>\n",
       "      <td>2021-01-10 16:30:39</td>\n",
       "    </tr>\n",
       "    <tr>\n",
       "      <th>2</th>\n",
       "      <td>1024</td>\n",
       "      <td>1024</td>\n",
       "      <td>train/0002.jpg</td>\n",
       "      <td>0</td>\n",
       "      <td>None</td>\n",
       "      <td>None</td>\n",
       "      <td>2020-12-27 17:55:52</td>\n",
       "    </tr>\n",
       "    <tr>\n",
       "      <th>3</th>\n",
       "      <td>1024</td>\n",
       "      <td>1024</td>\n",
       "      <td>train/0003.jpg</td>\n",
       "      <td>0</td>\n",
       "      <td>None</td>\n",
       "      <td>None</td>\n",
       "      <td>2021-03-31 12:10:36</td>\n",
       "    </tr>\n",
       "    <tr>\n",
       "      <th>4</th>\n",
       "      <td>1024</td>\n",
       "      <td>1024</td>\n",
       "      <td>train/0004.jpg</td>\n",
       "      <td>0</td>\n",
       "      <td>None</td>\n",
       "      <td>None</td>\n",
       "      <td>2021-01-01 18:52:38</td>\n",
       "    </tr>\n",
       "  </tbody>\n",
       "</table>\n",
       "</div>"
      ],
      "text/plain": [
       "    width  height       file_name  license flickr_url coco_url  \\\n",
       "id                                                               \n",
       "0    1024    1024  train/0000.jpg        0       None     None   \n",
       "1    1024    1024  train/0001.jpg        0       None     None   \n",
       "2    1024    1024  train/0002.jpg        0       None     None   \n",
       "3    1024    1024  train/0003.jpg        0       None     None   \n",
       "4    1024    1024  train/0004.jpg        0       None     None   \n",
       "\n",
       "          date_captured  \n",
       "id                       \n",
       "0   2020-12-26 14:44:23  \n",
       "1   2021-01-10 16:30:39  \n",
       "2   2020-12-27 17:55:52  \n",
       "3   2021-03-31 12:10:36  \n",
       "4   2021-01-01 18:52:38  "
      ]
     },
     "execution_count": 6,
     "metadata": {},
     "output_type": "execute_result"
    }
   ],
   "source": [
    "image_df.head()"
   ]
  },
  {
   "cell_type": "code",
   "execution_count": 7,
   "id": "168661ea-df81-4496-a044-0dcbc6eabfaf",
   "metadata": {},
   "outputs": [
    {
     "data": {
      "text/html": [
       "<div>\n",
       "<style scoped>\n",
       "    .dataframe tbody tr th:only-of-type {\n",
       "        vertical-align: middle;\n",
       "    }\n",
       "\n",
       "    .dataframe tbody tr th {\n",
       "        vertical-align: top;\n",
       "    }\n",
       "\n",
       "    .dataframe thead th {\n",
       "        text-align: right;\n",
       "    }\n",
       "</style>\n",
       "<table border=\"1\" class=\"dataframe\">\n",
       "  <thead>\n",
       "    <tr style=\"text-align: right;\">\n",
       "      <th></th>\n",
       "      <th>image_id</th>\n",
       "      <th>category_id</th>\n",
       "      <th>area</th>\n",
       "      <th>bbox</th>\n",
       "      <th>iscrowd</th>\n",
       "      <th>id</th>\n",
       "    </tr>\n",
       "  </thead>\n",
       "  <tbody>\n",
       "    <tr>\n",
       "      <th>0</th>\n",
       "      <td>0</td>\n",
       "      <td>0</td>\n",
       "      <td>257301.66</td>\n",
       "      <td>[197.6, 193.7, 547.8, 469.7]</td>\n",
       "      <td>0</td>\n",
       "      <td>0</td>\n",
       "    </tr>\n",
       "    <tr>\n",
       "      <th>1</th>\n",
       "      <td>1</td>\n",
       "      <td>3</td>\n",
       "      <td>10402.56</td>\n",
       "      <td>[0.0, 407.4, 57.6, 180.6]</td>\n",
       "      <td>0</td>\n",
       "      <td>1</td>\n",
       "    </tr>\n",
       "    <tr>\n",
       "      <th>2</th>\n",
       "      <td>1</td>\n",
       "      <td>7</td>\n",
       "      <td>26259.36</td>\n",
       "      <td>[0.0, 455.6, 144.6, 181.6]</td>\n",
       "      <td>0</td>\n",
       "      <td>2</td>\n",
       "    </tr>\n",
       "    <tr>\n",
       "      <th>3</th>\n",
       "      <td>1</td>\n",
       "      <td>4</td>\n",
       "      <td>69096.17</td>\n",
       "      <td>[722.3, 313.4, 274.3, 251.9]</td>\n",
       "      <td>0</td>\n",
       "      <td>3</td>\n",
       "    </tr>\n",
       "    <tr>\n",
       "      <th>4</th>\n",
       "      <td>1</td>\n",
       "      <td>5</td>\n",
       "      <td>24164.58</td>\n",
       "      <td>[353.2, 671.0, 233.7, 103.4]</td>\n",
       "      <td>0</td>\n",
       "      <td>4</td>\n",
       "    </tr>\n",
       "  </tbody>\n",
       "</table>\n",
       "</div>"
      ],
      "text/plain": [
       "   image_id  category_id       area                          bbox  iscrowd  id\n",
       "0         0            0  257301.66  [197.6, 193.7, 547.8, 469.7]        0   0\n",
       "1         1            3   10402.56     [0.0, 407.4, 57.6, 180.6]        0   1\n",
       "2         1            7   26259.36    [0.0, 455.6, 144.6, 181.6]        0   2\n",
       "3         1            4   69096.17  [722.3, 313.4, 274.3, 251.9]        0   3\n",
       "4         1            5   24164.58  [353.2, 671.0, 233.7, 103.4]        0   4"
      ]
     },
     "execution_count": 7,
     "metadata": {},
     "output_type": "execute_result"
    }
   ],
   "source": [
    "anno_df.head()"
   ]
  },
  {
   "cell_type": "code",
   "execution_count": 19,
   "id": "a73b13b6-f270-45b3-860f-d211515b9bf9",
   "metadata": {},
   "outputs": [],
   "source": [
    "import os\n",
    "import cv2"
   ]
  },
  {
   "cell_type": "code",
   "execution_count": 39,
   "id": "dab34261-957f-43b3-8491-7318064dde44",
   "metadata": {},
   "outputs": [],
   "source": [
    "def get_annotated_image(file_name,annotations, root = '../dataset'):\n",
    "    path = os.path.join(root,file_name)\n",
    "    img = cv2.imread(path)\n",
    "    img = cv2.rectangle(img, tuple(tl), tuple(br), rgb, line_thickness)\n",
    "    return img\n",
    "    \n",
    "def plot_image_ids(image_id_list, height_multiplier=6, verbose=True):\n",
    "    \n",
    "    for ind, image_id in enumerate(image_id_list):\n",
    "        annotations = anno_df[anno_df['image_id'] == image_id]\n",
    "        get_annotated_image(image_df.loc[image_id]['file_name'], annotations)\n",
    "        \n",
    "    return\n",
    "    annotated_imgs = []\n",
    "    n = len(image_id_list)\n",
    "\n",
    "    plt.figure(figsize=(20, height_multiplier*n))\n",
    "    for i, (image_id, annots) in enumerate(annotations.items()):\n",
    "        if i >= n:\n",
    "            break\n",
    "        if verbose:\n",
    "            print(f\".\", end=\"\")\n",
    "        plt.subplot(n//2,2,i+1)\n",
    "        plt.imshow(self.get_annotated_image(image_id, annots))\n",
    "        plt.axis(False)\n",
    "        plt.title(f\"Image ID – {image_id}\")\n",
    "    plt.tight_layout(rect=[0, 0.03, 1, 0.97])\n",
    "    plt.show()"
   ]
  },
  {
   "cell_type": "code",
   "execution_count": 40,
   "id": "ac94ed3c-ea5c-45bc-aedd-be49cb6e4418",
   "metadata": {},
   "outputs": [
    {
     "name": "stdout",
     "output_type": "stream",
     "text": [
      "(1024, 1024, 3)\n",
      "(1024, 1024, 3)\n",
      "(1024, 1024, 3)\n"
     ]
    }
   ],
   "source": [
    "plot_image_ids([0,1,2])"
   ]
  },
  {
   "cell_type": "code",
   "execution_count": null,
   "id": "4bcd1733-36fe-487d-a1c5-eb3944e0945e",
   "metadata": {},
   "outputs": [],
   "source": []
  }
 ],
 "metadata": {
  "kernelspec": {
   "display_name": "detection",
   "language": "python",
   "name": "detection"
  },
  "language_info": {
   "codemirror_mode": {
    "name": "ipython",
    "version": 3
   },
   "file_extension": ".py",
   "mimetype": "text/x-python",
   "name": "python",
   "nbconvert_exporter": "python",
   "pygments_lexer": "ipython3",
   "version": "3.7.15"
  }
 },
 "nbformat": 4,
 "nbformat_minor": 5
}
